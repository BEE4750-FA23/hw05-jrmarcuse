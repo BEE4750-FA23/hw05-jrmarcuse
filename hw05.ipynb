{
  "cells": [
    {
      "cell_type": "markdown",
      "id": "d150bc21-aac7-4d00-8136-259a754e9eed",
      "metadata": {},
      "source": [
        "# BEE 4750 Homework 5: Solid Waste Disposal\n",
        "\n",
        "**Name**: Jonathan Marcuse\n",
        "\n",
        "**ID**: jrm564\n",
        "\n",
        "> **Due Date**\n",
        ">\n",
        "> Friday, 11/10/23, 9:00pm\n",
        "\n",
        "## Overview"
      ]
    },
    {
      "cell_type": "markdown",
      "id": "0f5144ff-a99c-43e1-b180-aa978abf2c9b",
      "metadata": {},
      "source": [
        "### Instructions\n",
        "\n",
        "-   In Problem 1, you will formulate, solve, and analyze a standard\n",
        "    generating capacity expansion problem.\n",
        "-   In Problem 2, you will add a CO<sub>2</sub> constraint to the\n",
        "    capacity expansion problem and identify changes in the resulting\n",
        "    solution."
      ]
    },
    {
      "cell_type": "markdown",
      "id": "6b434ddc-db6e-4b87-bb3b-fbb64d3a8bbe",
      "metadata": {},
      "source": [
        "### Load Environment\n",
        "\n",
        "The following code loads the environment and makes sure all needed\n",
        "packages are installed. This should be at the start of most Julia\n",
        "scripts.\n",
        "\n",
        "``` julia\n",
        "import Pkg\n",
        "Pkg.activate(@__DIR__)\n",
        "Pkg.instantiate()\n",
        "```\n",
        "\n",
        "``` julia\n",
        "using JuMP\n",
        "using HiGHS\n",
        "using DataFrames\n",
        "using GraphRecipes\n",
        "using Plots\n",
        "using Measures\n",
        "using MarkdownTables\n",
        "```"
      ]
    },
    {
      "cell_type": "code",
      "execution_count": 77,
      "id": "e7cd5d05",
      "metadata": {},
      "outputs": [
        {
          "name": "stderr",
          "output_type": "stream",
          "text": [
            "\u001b[32m\u001b[1m  Activating\u001b[22m\u001b[39m project at `~/Desktop/BEE4750-2/hw05-jrmarcuse`\n"
          ]
        }
      ],
      "source": [
        "import Pkg\n",
        "Pkg.activate(@__DIR__)\n",
        "Pkg.instantiate()"
      ]
    },
    {
      "cell_type": "code",
      "execution_count": 78,
      "id": "362c989c",
      "metadata": {},
      "outputs": [],
      "source": [
        "using JuMP\n",
        "using HiGHS\n",
        "using DataFrames\n",
        "using GraphRecipes\n",
        "using Plots\n",
        "using Measures\n",
        "using MarkdownTables"
      ]
    },
    {
      "cell_type": "markdown",
      "id": "f01fc8ec-5c50-4f09-ae59-42dbf09a2fd7",
      "metadata": {},
      "source": [
        "## Background\n",
        "\n",
        "Three cities are developing a coordinated municipal solid waste (MSW)\n",
        "disposal plan. Three disposal alternatives are being considered: a\n",
        "landfill (LF), a materials recycling facility (MRF), and a\n",
        "waste-to-energy facility (WTE). The capacities of these facilities and\n",
        "the fees for operation and disposal are provided in the table below.\n",
        "\n",
        "|    **Disposal Facility**     | **Capacity** (Mg/d) | **Fixed cost** (\\$/d) | **Tipping Fee ** (\\$/Mg) | **Recycling Cost** (\\$/Mg) |\n",
        "|:-------------:|:-------------:|:-------------:|:----------:|:--------------:|\n",
        "|           Landfill           |         200         |         2000          |            50            |                            |\n",
        "| Materials Recycling Facility |         350         |         1500          |            7             |    40 (per Mg recycled)    |\n",
        "|   Waste-to-Energy Facility   |         210         |         2500          |            60            |                            |\n",
        "\n",
        "Transportation costs are \\$1.5/Mg-km, and the relative distances between\n",
        "the cities and facilities are provided in the table below.\n",
        "\n",
        "| **City/Facility** | **Landfill (km)** | **MRF (km)** | **WTE (km)** |\n",
        "|:-----------------:|:-----------------:|:------------:|:------------:|\n",
        "|         1         |         5         |      30      |      15      |\n",
        "|         2         |        15         |      25      |      10      |\n",
        "|         3         |        13         |      45      |      20      |\n",
        "|        LF         |        \\-         |      32      |      18      |\n",
        "|        MRF        |        32         |      \\-      |      15      |\n",
        "|        WTE        |        18         |      15      |      \\-      |\n",
        "\n",
        "The fixed costs associated with the disposal options are incurred only\n",
        "if the particular disposal option is implemented. The three cities\n",
        "produce 100, 90, and 120 Mg/day of solid waste, respectively, with the\n",
        "composition provided in the table below.\n",
        "\n",
        "|   **Component**   | **% of total mass** | **Combustion ash** (%) | **MRF Recycling rate** (%) |\n",
        "|:---------------------:|:--------------:|:---------------:|:---------------:|\n",
        "|    Food Wastes    |         15          |           8            |             0              |\n",
        "| Paper & Cardboard |         40          |           7            |             55             |\n",
        "|     Plastics      |          5          |           5            |             15             |\n",
        "|     Textiles      |          3          |           10           |             10             |\n",
        "|  Rubber, Leather  |          2          |           15           |             0              |\n",
        "|       Wood        |          5          |           2            |             30             |\n",
        "|    Yard Wastes    |         18          |           2            |             40             |\n",
        "|       Glass       |          4          |          100           |             60             |\n",
        "|      Ferrous      |          2          |          100           |             75             |\n",
        "|     Aluminum      |          2          |          100           |             80             |\n",
        "|    Other Metal    |          1          |          100           |             50             |\n",
        "|   Miscellaneous   |          3          |           70           |             0              |\n",
        "\n",
        "The information in the above table will help you determine the overall\n",
        "recycling and ash fractions. Note that the recycling residuals, which\n",
        "may be sent to either landfill or the WTE, have different ash content\n",
        "than the ash content of the original MSW. You will need to determine\n",
        "these fractions to construct your mass balance constraints.\n",
        "\n",
        "**Reminder**: Use `round(x; digits=n)` to report values to the\n",
        "appropriate precision!"
      ]
    },
    {
      "cell_type": "markdown",
      "id": "fdcc0b96-9176-4766-aed7-278ca003f7b6",
      "metadata": {},
      "source": [
        "## Problems (Total: 40 Points)"
      ]
    },
    {
      "cell_type": "markdown",
      "id": "ba969f6a-18b8-462c-980c-95b5ea6c6b92",
      "metadata": {},
      "source": [
        "### Problem 1 (22 points)\n",
        "\n",
        "In this problem, you will develop an optimal disposal plan for the two\n",
        "cities."
      ]
    },
    {
      "cell_type": "code",
      "execution_count": 79,
      "id": "d55ba677",
      "metadata": {},
      "outputs": [],
      "source": [
        "#Loading in Data from above\n",
        "Disposal_Facility = [200 2000 50 0; 350 1500 7 40; 210 2500 60 0];\n",
        "City_Facility = [5 30 15; 15 25 10; 13 45 20; 0 32 18; 32 0 15; 18 15 0];\n",
        "Component = [15 8 0; 40 7 55; 5 5 15; 3 10 10; 2 15 0; 5 2 30; 18 2 40; 4 100 60; 2 100 75; 2 100 80; 1 100 50; 3 70 0];"
      ]
    },
    {
      "cell_type": "markdown",
      "id": "b7bb2071-887b-4709-b241-fd83ca521817",
      "metadata": {},
      "source": [
        "#### Problem 1.1 (3 points)\n",
        "\n",
        "Based on the information above, calculate the overall recycling and ash\n",
        "fractions for the waste produced by each city."
      ]
    },
    {
      "cell_type": "code",
      "execution_count": 80,
      "id": "587f23fb",
      "metadata": {},
      "outputs": [],
      "source": [
        "#Overall recycling percent will be the weighted average of the recycling rates\n",
        "recyc_fraction = sum(0.01*Component[:,1].*Component[:,3]);\n",
        "#Overall ash fraction\n",
        "    # Total mass component times combustion ash percent plus the total mass component times the percent not recycled time combustion ash percent\n",
        "ash_fraction = sum(0.01*Component[:,1].*Component[:,2])+sum(0.01*Component[:,1].*(0.01*[100 - i for i in Component[:,3]]).*Component[:,2]);"
      ]
    },
    {
      "cell_type": "markdown",
      "id": "e649dc0e-ac57-4735-b145-f58917ce4cc5",
      "metadata": {},
      "source": [
        "#### Problem 1.2 (2 points)\n",
        "\n",
        "What are the decision variables for your optimization problem? Provide\n",
        "notation and variable meaning."
      ]
    },
    {
      "cell_type": "markdown",
      "id": "6a01ba96",
      "metadata": {},
      "source": [
        "My decision variables will be a 3x3 matrix of waste transported values connecting all cities to all disposals. Each city connects to 3 disposals and there are 3 cities which is why it will be a matrix W of size 3x3 where in Wij i is the city number and j is the disposal number.\n",
        "\n",
        "Next the residual waste transported from disposal k to disposal j will be a matrix R of size 3x3 where in Rkj k is the first disposal number and j is the first disposal number. In this matrix there will be a constraint that states that when k=j R=0 as there is no transportation within the same disposal site, and then the transportation from the landfill to MRF and WTE will be 0 as the landfill is an end destination. And finally, the transportation from WTE to MRF will also be zero as you cannot recycle waste that has already been combusted in the MRF\n",
        "\n",
        "Finally a binary decision variable for if the disposal facility is in use must be implemented to determine if fixed cost must be included. This will be variable Yj for j in 1:3 where j is the disposal number and Y is 1 if any waste is transported into the disposal facility, and 0 if no waste is transported in.\n",
        "\n",
        "To summarize the decision variables are Wij for i in 1:3 and j in 1:3; Rkj for k in 1:3 and j in 1:3, and Yj for j in 1:3.\n",
        "i is the city number 1:3 and j is the disposal facility number 1:3 where 1 is LF, 2 is MRF and 3 is WTE."
      ]
    },
    {
      "cell_type": "markdown",
      "id": "692b76d0-5e3c-4123-a2f8-cc244fba0dc2",
      "metadata": {},
      "source": [
        "#### Problem 1.3 (3 points)\n",
        "\n",
        "Formulate the objective function. Make sure to include any needed\n",
        "derivations or justifications for your equation(s)."
      ]
    },
    {
      "cell_type": "markdown",
      "id": "b378f962",
      "metadata": {},
      "source": [
        "The objective function will be the total transportation, disposal and recycling costs summed up. The transportation cost will be the transportation cost rate (a) multiplied by the distance (l) between locations multiplied by the mass of waste transported (W) or sum(a\\*l\\*W). This will also apply to the transportation between disposal facilities so we will need a distance matrix for distances between disposal facilities (lr) and then the same equation applies - sum(a\\*lr\\*R). The Disposal cost will be the fixed cost of operating the disposal (c) facility multiplied by the decision variabel to operate the disposal facility (Y) plus the sum of the tipping fee or variable cost per mass transported (b) multiplied by the waste transported (W) as well as the waste transported between disposal facilities R or to simplify: sum(c\\*Y)+sum(b\\*W)+sum(b\\*W). Finally the recyclinc cost will be the total amount of waste transported into the waste recycling facility (sum(W[:,2])) multiplied by the recycing fraction multiplied by the cost of recycling or to summarize sum(W[:,2])\\*recyc_fraction\\*recyc_cost.\n",
        "\n",
        "To put it all together:\n",
        "\n",
        "Total Cost = sum(a\\*l\\*W)+sum(a\\*l\\*R)+sum(c\\*Y)+sum(b\\*W)+sum(b\\*R)+sum(W[:,2])\\*recyc_fraction\\*recyc_cost\n",
        "\n",
        "The final simplified objective function given by the model is as follow:\n",
        "\n",
        "$57.5 W[1,1] + 72.5 W[2,1] + 69.5 W[3,1] + 67.1 W[1,2] + 59.6 W[2,2] + 89.6 W[3,2] + 82.5 W[1,3] + 75 W[2,3] + 90 W[3,3] + 98 R[2,1] + 77 R[3,1] + 55 R[1,2] + 29.5 R[3,2] + 87 R[1,3] + 82.5 R[2,3] + 2000 Y[1] + 1500 Y[2] + 2500 Y[3] + 50 R[1,1] + 7 R[2,2] + 60 R[3,3]$"
      ]
    },
    {
      "cell_type": "markdown",
      "id": "b1ac06fc-3f24-4ce0-86b2-9910f62d235f",
      "metadata": {},
      "source": [
        "#### Problem 1.4 (4 points)\n",
        "\n",
        "Derive all relevant constraints. Make sure to include any needed\n",
        "justifications or derivations."
      ]
    },
    {
      "cell_type": "markdown",
      "id": "1032a65c",
      "metadata": {},
      "source": [
        "The constraint for the amount of ash transported from the waste to energy to landfill will be as follows: the ash fraction multiplied by the sum of all inputs into the WTE disposal facility or - ash_fraction\\*(W13+W23+W33+R23)\n",
        "\n",
        "The constraint for the mass balance of waste at the recycling facility will be the total amount of waste leaving the recycling facility will be equal to one minus the recycling fraction multiplied by the mass of the total inputs to the recycling facility or - R21+R23 = (1-recyc_fraction)\\*(W12+W22+W32)\n",
        "\n",
        "The general mass balance constraints will have the total waste leaving each city must be equal to the total production of solid waste from each city or - sum(W[i,:])=Si for i in 1:3 where i is the city number.\n",
        "\n",
        "The commitments constraint (Y) will be a binary constraint that states whether or not the disposal facility is being operated. The value will be 0 only if the sum of all waste streams entering the disposal facility is 0, and otherwise it will be 1 or Yi = 0 if sum(W[i,:])=0, else=1 for i in 1:3.\n",
        "\n",
        "The capacity constraints for the disposal facility will state that the sum of all waste streams into the disposal facility will be less than or equal to that facilities capacity or - sum(W[:,j])\\<=Kj for j in 1:3\n",
        "\n",
        "The residuals that must be zero constraint will take the sum of all the R values that must be zero which is 6 out of the 9 of them and set that equal to zero or - R11+R22+R33+R12+R13+R31=0\n",
        "\n",
        "Finally the non-negative constraint will state that W\\>=0 and R\\>=0"
      ]
    },
    {
      "cell_type": "markdown",
      "id": "311b2145-551b-4c4c-99aa-e466b170c470",
      "metadata": {},
      "source": [
        "#### Problem 1.5 (3 points)\n",
        "\n",
        "Implement your optimization problem in `JuMP`."
      ]
    },
    {
      "cell_type": "code",
      "execution_count": 88,
      "id": "231b9518",
      "metadata": {},
      "outputs": [
        {
          "name": "stdout",
          "output_type": "stream",
          "text": [
            "Running HiGHS 1.6.0: Copyright (c) 2023 HiGHS under MIT licence terms\n",
            "Presolving model\n",
            "9 rows, 13 cols, 31 nonzeros\n",
            "8 rows, 12 cols, 27 nonzeros\n",
            "\n",
            "Solving MIP model with:\n",
            "   8 rows\n",
            "   12 cols (3 binary, 0 integer, 0 implied int., 9 continuous)\n",
            "   27 nonzeros\n",
            "\n",
            "        Nodes      |    B&B Tree     |            Objective Bounds              |  Dynamic Constraints |       Work      \n",
            "     Proc. InQueue |  Leaves   Expl. | BestBound       BestSol              Gap |   Cuts   InLp Confl. | LpIters     Time\n",
            "\n",
            "         0       0         0   0.00%   0               inf                  inf        0      0      0         0     0.0s\n",
            " S       0       0         0   0.00%   0               27870.76095      100.00%        0      0      0         0     0.0s\n",
            "         0       0         0   0.00%   25548.180305    27870.76095        8.33%        0      0      0         4     0.0s\n",
            "\n",
            "Solving report\n",
            "  Status            Optimal\n",
            "  Primal bound      27870.76095\n",
            "  Dual bound        27870.76095\n",
            "  Gap               0% (tolerance: 0.01%)\n",
            "  Solution status   feasible\n",
            "                    27870.76095 (objective)\n",
            "                    0 (bound viol.)\n",
            "                    0 (int. viol.)\n",
            "                    0 (row viol.)\n",
            "  Timing            0.01 (total)\n",
            "                    0.00 (presolve)\n",
            "                    0.00 (postsolve)\n",
            "  Nodes             1\n",
            "  LP iterations     7 (total)\n",
            "                    0 (strong br.)\n",
            "                    1 (separation)\n",
            "                    1 (heuristics)\n"
          ]
        }
      ],
      "source": [
        "s = [100 90 120]; #vector of waste produced in each city in Mg/day\n",
        "k = Disposal_Facility[:,1]; #Vector of capacities of each disposal facility\n",
        "l = City_Facility[1:3,:]; #matrix of transportation distances between cities and disposals\n",
        "lr = City_Facility[4:6,:]; #matrix of transportation distances between disposal facilities\n",
        "a = 1.5; #transport cost rate in $/Mg-km\n",
        "c = Disposal_Facility[:,2]; #fixed cost of disposal operation $/day\n",
        "b = [50 7 60]; #variable cost of disposal from tipping fee $/Mg\n",
        "recyc_cost = Disposal_Facility[2,4]; #Cost in $/Mg for recycling solid waste\n",
        "M = 1000000; #M value for Big-M reformulation for Y constraint\n",
        "I = 1:3; #city numbered city 1,2&3\n",
        "J = 1:3; #disposal number where 1 is LF, 2 is MRF & 3 is WTE\n",
        "K = 1:3; #disposal secondary number for residuals where 1 is LF, 2 is MRF & 3 is WTE\n",
        "\n",
        "#initiate model\n",
        "waste_mod = Model(HiGHS.Optimizer)\n",
        "\n",
        "#initiate decision variables\n",
        "@variable(waste_mod,W[i in I, j in J]>=0); #waste transported between cities and disposal facilities\n",
        "@variable(waste_mod,R[k in K, j in J]>=0); #residual waste transported between disposal facilities\n",
        "@variable(waste_mod,Y[j in J],binary=true); #binary variable for if disposal facility is being operated\n",
        "\n",
        "#Formulate the objective function to minimize total cost\n",
        "    #Transportation costs + Disposal costs + Recycling costs\n",
        "@objective(waste_mod,Min,sum(a*l.*W)+sum(a*lr.*R)+sum(c.*Y)+sum(b.*W)+sum(b.*R)+sum(W[:,2])*0.01*recyc_fraction*recyc_cost); \n",
        "\n",
        "#Add all constraints\n",
        "@constraint(waste_mod, Ash, R[3,1]==0.01*ash_fraction*(sum(W[:,3])+R[2,3])); #ash fraction to landfill from WTE\n",
        "@constraint(waste_mod, Rcyc, R[2,1]+R[2,3]==(1-0.01*recyc_fraction)*sum(W[:,2])); #waste in and out mass balance at MRF\n",
        "@constraint(waste_mod, Mass_Bal[i in I], sum(W[i,:])==s[i]); #mass balance of total waste leaving each city equal to waste produced by each city\n",
        "@constraint(waste_mod,commit[j in J],M*Y[j]>=sum(W[:,j])); #If the variable Y is 0 then the sum of waste streams into the disposal facility must be 0\n",
        "@constraint(waste_mod,cap[j in J],sum(W[:,j])<=k[j]); #total inputs into disposal facilities must be less than the capacity\n",
        "@constraint(waste_mod, residuals,R[1,1]+R[2,2]+R[3,3]+R[1,2]+R[1,3]+R[3,2]==0); #All of these residuals must be zero\n",
        "\n",
        "optimize!(waste_mod)"
      ]
    },
    {
      "cell_type": "markdown",
      "id": "f986c51d-2e74-496f-ac02-89e7455c9e4f",
      "metadata": {},
      "source": [
        "#### Problem 1.6 (2 points)\n",
        "\n",
        "Find the optimal solution. Report the optimal objective value."
      ]
    },
    {
      "cell_type": "code",
      "execution_count": 108,
      "id": "2ec18045",
      "metadata": {},
      "outputs": [
        {
          "name": "stdout",
          "output_type": "stream",
          "text": [
            "The objective function value is $27870.76\n"
          ]
        }
      ],
      "source": [
        "obj = round.(objective_value(waste_mod);digits=2)\n",
        "println(\"The objective function value is \\$$obj\")"
      ]
    },
    {
      "cell_type": "markdown",
      "id": "f577fd2d-e5de-406b-9f86-ec957976e3e0",
      "metadata": {},
      "source": [
        "#### Problem 1.7 (5 points)\n",
        "\n",
        "Draw a diagram showing the flows of waste between the cities and the\n",
        "facilities. Which facilities (if any) will not be used? Does this\n",
        "solution make sense?"
      ]
    },
    {
      "cell_type": "markdown",
      "id": "09b5ec06",
      "metadata": {},
      "source": [
        "![Diagram of Waste Flow](IMG-1015.jpg)"
      ]
    },
    {
      "cell_type": "code",
      "execution_count": 110,
      "id": "c3273a00",
      "metadata": {},
      "outputs": [
        {
          "data": {
            "text/plain": [
              "1-dimensional DenseAxisArray{Float64,1,...} with index sets:\n",
              "    Dimension 1, 1:3\n",
              "And data, a 3-element Vector{Float64}:\n",
              "  1.0\n",
              " -0.0\n",
              "  1.0"
            ]
          },
          "metadata": {},
          "output_type": "display_data"
        }
      ],
      "source": [
        "display(value.(Y))"
      ]
    },
    {
      "cell_type": "markdown",
      "id": "cfa7d46a",
      "metadata": {},
      "source": [
        "The Materials Recycling Facility will not be used which makes sense as all of the waste can go direct to the landfill or waste to energy without the model incurring additional recycling costs for waste. There should be added constraints to account for the environmental benefits of recycling."
      ]
    },
    {
      "cell_type": "markdown",
      "id": "d648850f-68e5-4b26-a097-3ef8b4a4ec0e",
      "metadata": {},
      "source": [
        "### Problem 2 (18 points)\n",
        "\n",
        "It is projected that in the near future the state will introduce a\n",
        "carbon tax that will increase the cost for transportation and for\n",
        "disposal by incineration. It is estimated that the additional costs will\n",
        "be:\n",
        "\n",
        "-   tipping fee for the WTE facility will increase to\\$75/Mg; and\n",
        "-   transportation costs will increase to \\$2/Mg-km.\n",
        "\n",
        "In this context, the cities are considering adding another landfill and\n",
        "want to know if this would be cost-effective compared to using the\n",
        "current facilities with the carbon tax. This landfill would have a\n",
        "maximum capacity of 100 Mg/day and would be located with the following\n",
        "distances from the existing sites (excluding LF1):\n",
        "\n",
        "| **City/Facility** | **Distance to LF2 (km)** |\n",
        "|:-----------------:|:------------------------:|\n",
        "|         1         |            45            |\n",
        "|         2         |            35            |\n",
        "|         3         |            15            |\n",
        "|        MRF        |            35            |\n",
        "|        WTE        |            50            |\n",
        "\n",
        "The fixed cost of operating this facility would be the same as the first\n",
        "landfill, but the tipping cost would be increased to \\$60/Mg-day."
      ]
    },
    {
      "cell_type": "markdown",
      "id": "100f8010-51df-472b-92b8-c3b26b338fc7",
      "metadata": {},
      "source": [
        "#### Problem 2.1 (5 points)\n",
        "\n",
        "What changes are needed to your optimization program from Problem 1 for\n",
        "this decision problem? Formulate any different variables, objectives,\n",
        "and/or constraints."
      ]
    },
    {
      "cell_type": "markdown",
      "id": "d2c90680-d220-4bd8-8446-000e32cceb1e",
      "metadata": {},
      "source": [
        "#### Problem 2.2 (3 points)\n",
        "\n",
        "Implement the new optimization problem in `JuMP`."
      ]
    },
    {
      "cell_type": "markdown",
      "id": "d62a11f7-d999-4d09-aa23-f01cf696567b",
      "metadata": {},
      "source": [
        "#### Problem 2.3 (5 points)\n",
        "\n",
        "Find the optimal solution and report the optimal objective value.\n",
        "Provide a diagram showing the new waste flows."
      ]
    },
    {
      "cell_type": "markdown",
      "id": "c434f326-28e9-4db9-a274-b2fe358379c3",
      "metadata": {},
      "source": [
        "#### Problem 2.4 (5 points)\n",
        "\n",
        "Would you recommend that the cities build the new landfill? Why or why\n",
        "not? Your answer should be based on your analysis but can draw on other\n",
        "considerations as appropriate or desired."
      ]
    },
    {
      "cell_type": "markdown",
      "id": "3b590183-8c1f-45b7-8b53-a61f6e14c3d0",
      "metadata": {},
      "source": [
        "## References\n",
        "\n",
        "List any external references consulted, including classmates."
      ]
    }
  ],
  "metadata": {
    "kernelspec": {
      "display_name": "Julia 1.9.2",
      "language": "julia",
      "name": "julia-1.9"
    },
    "language_info": {
      "file_extension": ".jl",
      "mimetype": "application/julia",
      "name": "julia",
      "version": "1.9.2"
    }
  },
  "nbformat": 4,
  "nbformat_minor": 5
}
